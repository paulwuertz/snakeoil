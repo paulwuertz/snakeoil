{
 "cells": [
  {
   "cell_type": "markdown",
   "metadata": {},
   "source": [
    "# Tradukilo: vortolisto al `.yaml` listo."
   ]
  },
  {
   "cell_type": "markdown",
   "metadata": {},
   "source": [
    "Programeto por traduki vortoliston al la `.yaml` formato, kiun uzas la *Pitona* programo de Paǔlo por prepari la kartojn de *Snakeoil*.\n",
    "\n",
    "* `Datumnomo` estas la nomo por la vortolisto. Devas esti en `.csv` formato kun du kolumnoj:\n",
    "    * la unua estas la radiko kaj\n",
    "    * la dua la finaĵo.\n",
    "* La apartigo de la kolumnoj devas esti punktokomon: `;`.\n",
    "* La eligo saviĝos kiel datumo kun nomo `kartoj.yaml`. La novaj vortoj aldoniĝos je la fino de la dokumentoj.\n",
    "\n",
    "La programo kontrolos ĉu la novaj aldonotaj vortoj de la `.csv` datumo havas ripetojn kaj forigos ilin. Ĝi ankaǔ kontrolos ĉu la vortoj de la aldonlisto jam estis en la aktuala `.yaml` vortolisto, kaj forigos ĝin kaze ke jam ekzistas."
   ]
  },
  {
   "cell_type": "code",
   "execution_count": 2,
   "metadata": {},
   "outputs": [],
   "source": [
    "import fnmatch\n",
    "import os"
   ]
  },
  {
   "cell_type": "code",
   "execution_count": 113,
   "metadata": {},
   "outputs": [
    {
     "name": "stdout",
     "output_type": "stream",
     "text": [
      "novaj radikoj aldonotaj:\n",
      "-----\n",
      "['ALARM', 'ABENTEUER', 'LUFT', 'ALKOHOL', 'WUT', 'TIER', 'KUNST', 'PREIS', 'AXT', 'BART', 'KUSCHEL', 'CONTAINER', 'SACK', 'NUDEL', 'ÖL', 'THERAPIE', 'TSUNAMI', 'BLÄSER', 'GLITSCH', 'PUMPE', 'KAPITALISMUS', 'STUHL', 'JAHRHUNDERT', 'SCHACH', 'CHINA', 'UNI', 'LOCH', 'STAUB', 'ELLENBOGEN', 'KOMMUNISMUS', 'MÜLL', 'GRAS', 'HÜGEL', 'JURA', 'ARCHITEKTUR', 'GEBÄUDE', 'NEBEL', 'INTERNET', 'DEUTSCHLAND', 'JEANS', 'SCHLÜSSEL', 'RASEN', 'LEITER', 'EITER', 'GUTSCHEIN', 'EURO', 'MACHO', 'ALBTRAUM', 'ORGAN', 'GUTACHTEN', 'BGB', 'HARTZ-IV', 'SPIEL', 'INSULIN', 'TOR', 'AUFSATZ', 'BLITZ', 'SÄURE', 'ANTENNE', 'LAVINE', 'BAKTERIE', 'BLASE', 'DRACHE', 'HANDSCHELLE', 'SCHLANGE', 'ZUNGE', 'PERÜCKE', 'HÖHLE', 'HARFE', 'SEIFE', 'FLASCHE', 'PROTHESE', 'TANNE', 'KANNE', 'KREIDE', 'SCHOKOLADE', 'MASCHINE', 'BLUME', 'GITARRE', 'KÜCHE', 'MÜLLABHALDE', 'MATRATZE', 'MOTTE', 'FARBE', 'TOILETTE', 'TASCHE', 'KATZE', 'ZAHNBÜRSTE', 'GEDANKE', 'WANZE', 'GEIGE', 'KARTE', 'ENGEL', 'RÜSTUNG', 'ZWEIFEL', 'KAUFMANN', 'ABZUG', 'ANZUG', 'GRABMAL', 'HIMMEL', 'BUMM', 'GEWERKSCHAFT', 'KOCH', 'GESPRÄCH', 'DRECK', 'FAHRSTUHL', 'EVOLUTION', 'MITTAG', 'MAMMUT', 'MONTAG', 'NACHBAR', 'SCHLAFANZUG', 'KOMMENTAR', 'POPULATION', 'WERBUNG', 'KROKODIL', 'PRÄSENTATION', 'ISOLATION', 'GERUCH', 'UÄÄÄRRGHH', 'FORTSCHRITT', 'KRIEG', 'JURIST', 'ZEIT', 'SÜßIGKEIT', 'KAPITALIST', 'KRITIK', 'TÜR', 'OHR', 'ELEPHANT', 'ELF', 'KOMMUNIST', 'HEMD', 'UHR', 'STAAT', 'KREATUR', 'GRAVUR', 'PLANET', 'ERD', 'EI', 'SCHLEIM', 'KLEID', 'LADEGERÄT', 'STIFT', 'TAG', 'HAAR', '3D-DRUCKER', 'KIRCHE', 'GEBURTSTAG', 'MANDARINE', 'PORZELLAN', 'ZUG', 'BALKON', 'LAMPE', 'PIZZA', 'LATSCHEN', 'ZELT', 'MORD', 'WAFFE', 'FENSTERBRETT', 'INVENTAR', 'SUPPE', 'LISTE', 'VERSICHERUNG', 'BRUMM', 'SÄGE', 'WÖRTERBUCH', 'STAND', 'BÜGEL', 'TASTATUR', 'TROMPETE', 'STRAFZUMESSUNG', 'KARTEIKARTE', 'SPRITZE', 'GALERIE', 'ESPERANTO', 'STRICK', 'FAHRRAD', 'SATTEL', 'GRANATE', 'WÜRDE', 'BLUBB', 'KAFFEESATZ', 'BÜRO', 'ANTI-ALLES', 'SAMT', 'PAPP', 'ZERSTÖRER', 'ELEKTRIK', 'KONKURRENZ', 'SATZ', 'SET', 'BOHRER', 'DING', 'REP', 'BEWEIS', 'FÄLSCHUNG', 'AUFTRAG', 'PINKEL', 'MIAU', 'HUND', 'ABITUR', 'PRESSE']\n",
      "\n",
      "ripetoj forigitaj:\n",
      "-----\n",
      "['BLUME', 'HANDSCHELLE']\n"
     ]
    }
   ],
   "source": [
    "datumnomo = \"./Wortliste.csv\"\n",
    "\n",
    "linioj = []\n",
    "radikoj = []\n",
    "finajxoj = []\n",
    "ripetoj = []\n",
    "\n",
    "for linio in open(datumnomo):\n",
    "    linio = linio.rstrip('\\n')\n",
    "    linio = linio.split(';')\n",
    "    \n",
    "    if len(fnmatch.filter(radikoj,linio[0])) == 0:\n",
    "        radikoj.append(linio[0])\n",
    "        finajxoj.append(linio[1])\n",
    "    else:\n",
    "        ripetoj.append(linio[0])\n",
    "    \n",
    "print(\"novaj radikoj aldonotaj:\\n-----\")\n",
    "print(radikoj)\n",
    "print(\"\\nripetoj forigitaj:\\n-----\")\n",
    "print(ripetoj)"
   ]
  },
  {
   "cell_type": "code",
   "execution_count": 115,
   "metadata": {},
   "outputs": [
    {
     "name": "stdout",
     "output_type": "stream",
     "text": [
      "negataj radikoj, kiuj jam estis en la .yaml listo:\n",
      "-----\n",
      "['ALARM', 'ABENTEUER', 'LUFT', 'ALKOHOL', 'WUT', 'TIER', 'KUNST', 'PREIS', 'AXT', 'BART', 'KUSCHEL', 'CONTAINER', 'SACK', 'NUDEL', 'ÖL', 'THERAPIE', 'TSUNAMI', 'BLÄSER', 'GLITSCH', 'PUMPE', 'KAPITALISMUS', 'STUHL', 'JAHRHUNDERT', 'SCHACH', 'CHINA', 'UNI', 'LOCH', 'STAUB', 'ELLENBOGEN', 'KOMMUNISMUS', 'MÜLL', 'GRAS', 'HÜGEL', 'JURA', 'ARCHITEKTUR', 'GEBÄUDE', 'NEBEL', 'INTERNET', 'DEUTSCHLAND', 'JEANS', 'SCHLÜSSEL', 'RASEN', 'LEITER', 'EITER', 'GUTSCHEIN', 'EURO', 'MACHO', 'ALBTRAUM', 'ORGAN', 'GUTACHTEN', 'BGB', 'HARTZ-IV', 'SPIEL', 'INSULIN', 'TOR', 'AUFSATZ', 'BLITZ', 'SÄURE', 'ANTENNE', 'LAVINE', 'BAKTERIE', 'BLASE', 'DRACHE', 'HANDSCHELLE', 'SCHLANGE', 'ZUNGE', 'PERÜCKE', 'HÖHLE', 'HARFE', 'SEIFE', 'FLASCHE', 'PROTHESE', 'TANNE', 'KANNE', 'KREIDE', 'SCHOKOLADE', 'MASCHINE', 'BLUME', 'GITARRE', 'KÜCHE', 'MÜLLABHALDE', 'MATRATZE', 'MOTTE', 'FARBE', 'TOILETTE', 'TASCHE', 'KATZE', 'ZAHNBÜRSTE', 'GEDANKE', 'WANZE', 'GEIGE', 'KARTE', 'ENGEL', 'RÜSTUNG', 'ZWEIFEL', 'KAUFMANN', 'ABZUG', 'ANZUG', 'GRABMAL', 'HIMMEL', 'BUMM', 'GEWERKSCHAFT', 'KOCH', 'GESPRÄCH', 'DRECK', 'FAHRSTUHL', 'EVOLUTION', 'MITTAG', 'MAMMUT', 'MONTAG', 'NACHBAR', 'SCHLAFANZUG', 'KOMMENTAR', 'POPULATION', 'WERBUNG', 'KROKODIL', 'PRÄSENTATION', 'ISOLATION', 'GERUCH', 'UÄÄÄRRGHH', 'FORTSCHRITT', 'KRIEG', 'JURIST', 'ZEIT', 'SÜßIGKEIT', 'KAPITALIST', 'KRITIK', 'TÜR', 'OHR', 'ELEPHANT', 'ELF', 'KOMMUNIST', 'HEMD', 'UHR', 'STAAT', 'KREATUR', 'GRAVUR', 'PLANET', 'ERD', 'EI', 'SCHLEIM', 'KLEID', 'LADEGERÄT', 'STIFT', 'TAG', 'HAAR', '3D-DRUCKER', 'KIRCHE', 'GEBURTSTAG', 'MANDARINE', 'PORZELLAN', 'ZUG', 'BALKON', 'LAMPE', 'PIZZA', 'LATSCHEN', 'ZELT', 'MORD', 'WAFFE', 'FENSTERBRETT', 'INVENTAR', 'SUPPE', 'LISTE', 'VERSICHERUNG', 'BRUMM', 'SÄGE', 'WÖRTERBUCH', 'STAND', 'BÜGEL', 'TASTATUR', 'TROMPETE', 'STRAFZUMESSUNG', 'KARTEIKARTE', 'SPRITZE', 'GALERIE', 'ESPERANTO', 'STRICK', 'FAHRRAD', 'SATTEL', 'GRANATE', 'WÜRDE', 'BLUBB', 'KAFFEESATZ', 'BÜRO', 'ANTI-ALLES', 'SAMT', 'PAPP', 'ZERSTÖRER', 'ELEKTRIK', 'KONKURRENZ', 'SATZ', 'SET', 'BOHRER', 'DING', 'REP', 'BEWEIS', 'FÄLSCHUNG', 'AUFTRAG', 'PINKEL', 'MIAU', 'HUND', 'ABITUR', 'PRESSE']\n",
      "\n",
      "novaj vortoj aldonotaj:\n",
      "-----\n",
      "[]\n"
     ]
    }
   ],
   "source": [
    "def kontrolu(vortolisto, radikoj):\n",
    "    \n",
    "    novaj_vortoj = []\n",
    "    vortoj = []\n",
    "    negoj = []\n",
    "    \n",
    "    for linio in open(vortolisto):\n",
    "        if len(fnmatch.filter([linio], '*vorto:*')) > 0:\n",
    "            vortoj.append(linio[9:].rstrip('\\n'))\n",
    "    \n",
    "    numerilo = 0\n",
    "    for radiko in radikoj:\n",
    "        if len(fnmatch.filter(vortoj, radiko)) > 0:\n",
    "            negoj.append(radiko)\n",
    "        else:\n",
    "            novaj_vortoj.append([radiko,finajxoj[numerilo]])\n",
    "        numerilo += 1\n",
    "            \n",
    "    return novaj_vortoj, negoj\n",
    "                \n",
    "vortolisto = \"./kartoj.yaml\"\n",
    "novaj_vortoj, negoj = kontrolu(vortolisto,radikoj)\n",
    "\n",
    "print(\"negataj radikoj, kiuj jam estis en la .yaml listo:\\n-----\")\n",
    "print(negoj)\n",
    "print(\"\\nnovaj vortoj aldonotaj:\\n-----\")\n",
    "print(novaj_vortoj)"
   ]
  },
  {
   "cell_type": "markdown",
   "metadata": {},
   "source": [
    "Aldonu la generatajn vortojn al la fina `.yaml` listo:"
   ]
  },
  {
   "cell_type": "code",
   "execution_count": 102,
   "metadata": {},
   "outputs": [],
   "source": [
    "with open('kartoj.yaml', 'a') as vortolisto:\n",
    "    if os.path.getsize('kartoj.yaml') == 0:\n",
    "        vortolisto.write('---\\n')\n",
    "    for linio in novaj_vortoj:\n",
    "        vortolisto.write('- vorto: ' + linio[0] + '\\n')\n",
    "        vortolisto.write('  kvanto: 1\\n')\n",
    "        vortolisto.write('  finajxo: \"' + linio[1] + '\"\\n')"
   ]
  },
  {
   "cell_type": "code",
   "execution_count": 6,
   "metadata": {},
   "outputs": [
    {
     "name": "stdout",
     "output_type": "stream",
     "text": [
      "novaj roloj aldonotaj:\n",
      "-----\n",
      "['AUTOR', 'GEFÄNGNISAUSBRECHER', 'RICHTER', 'KAUFMANN', 'BERGMANN ', 'BRATSCHER', 'MATHEMATIKER', 'BASTLER', 'SPIELER', 'ARCHITEKT', 'KATZENLADY', 'RATTENFÄNGER', 'THERAPEUT', 'VERZWEIFELTER', 'BRANDSTIFTER', 'ANZUGTYP', 'VERKÄUFER', 'SEXARBEITER', 'FABRIKARBEITER', 'VOLLEYBALLERIN', 'AUGENARZT', 'CHIRURG', 'PROFESSOR', 'AUTODIEB', 'WOHNUNGSMAKLER', 'INVESTOR', 'KOCH', 'CHEMIKER', 'BOMBENBAUER', 'PASTOR', 'NONNE', 'HIWI', 'SEKRETÄR', 'BUNDESKANZLER', 'PRÄSIDENTIN', 'MINISTERIN', 'UHRENDESIGNER', 'PROFIBOXERIN', 'TELLERWÄSCHER', 'AUFTRAGSMÖRDER', 'GEFÄNGNISWÄRTERIN', 'ELEKTRIKERIN', 'FEUERWEHRMANN', 'KISSENTESTER', 'PILOTIN', 'VERTRETER', 'TIERHEIMBETREIBER', 'RETTUNGSSCHWIMMERIN', 'ALKOHOLIKER', 'ÜBERSETZER', 'PROGRAMMIERER', 'HUNDEFRISÖR', 'ERFINDER', 'PIANIST', 'SECURITY GUARD', 'FÖRSTER', 'SOLDAT', 'OFFIZIER', 'TRUMP', 'PUTIN', 'MERKEL', 'ANWALT', 'NOTAR', 'STAATSANWALT', 'GEBÄUDEVERSICHERER', 'HAUSMEISTERIN', 'AUTOMATENFACHFRAU', 'PILZSAMMLER', 'BALLISTIKEXPERTIN', 'FACHIDIOT', 'TIERARZT', 'KUNSTSAMMLER', 'MUSEUMSKURATOR', 'SPIELETESTER', 'BING-YI', 'DU BIN']\n",
      "\n",
      "ripetoj forigitaj:\n",
      "-----\n",
      "[]\n"
     ]
    }
   ],
   "source": [
    "datumnomo = \"./Rollenliste.csv\"\n",
    "\n",
    "linioj = []\n",
    "roloj = []\n",
    "ripetoj = []\n",
    "\n",
    "for linio in open(datumnomo):\n",
    "    linio = linio.rstrip('\\n')\n",
    "    linio = linio.split(';')\n",
    "    \n",
    "    if len(fnmatch.filter(roloj,linio[0])) == 0:\n",
    "        roloj.append(linio[0])\n",
    "    else:\n",
    "        ripetoj.append(linio[0])\n",
    "    \n",
    "print(\"novaj roloj aldonotaj:\\n-----\")\n",
    "print(roloj)\n",
    "print(\"\\nripetoj forigitaj:\\n-----\")\n",
    "print(ripetoj)\n",
    "\n",
    "with open('roloj.yaml', 'a') as vortolisto:\n",
    "    if os.path.getsize('roloj.yaml') == 0:\n",
    "        vortolisto.write('---\\n')\n",
    "    for linio in roloj:\n",
    "        vortolisto.write('- vorto: ' + linio + '\\n')\n",
    "        vortolisto.write('  kvanto: 1\\n')"
   ]
  },
  {
   "cell_type": "code",
   "execution_count": null,
   "metadata": {},
   "outputs": [],
   "source": []
  }
 ],
 "metadata": {
  "kernelspec": {
   "display_name": "Python 3",
   "language": "python",
   "name": "python3"
  },
  "language_info": {
   "codemirror_mode": {
    "name": "ipython",
    "version": 3
   },
   "file_extension": ".py",
   "mimetype": "text/x-python",
   "name": "python",
   "nbconvert_exporter": "python",
   "pygments_lexer": "ipython3",
   "version": "3.7.3"
  }
 },
 "nbformat": 4,
 "nbformat_minor": 2
}
